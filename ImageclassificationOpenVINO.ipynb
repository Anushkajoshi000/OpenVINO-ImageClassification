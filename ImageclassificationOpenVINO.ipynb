{
  "nbformat": 4,
  "nbformat_minor": 0,
  "metadata": {
    "colab": {
      "provenance": [],
      "authorship_tag": "ABX9TyM5Drr0OmYIIbnP4+xKVsRx",
      "include_colab_link": true
    },
    "kernelspec": {
      "name": "python3",
      "display_name": "Python 3"
    },
    "language_info": {
      "name": "python"
    }
  },
  "cells": [
    {
      "cell_type": "markdown",
      "metadata": {
        "id": "view-in-github",
        "colab_type": "text"
      },
      "source": [
        "<a href=\"https://colab.research.google.com/github/Anushkajoshi000/openVINOImageClassification-/blob/main/ImageclassificationOpenVINO.ipynb\" target=\"_parent\"><img src=\"https://colab.research.google.com/assets/colab-badge.svg\" alt=\"Open In Colab\"/></a>"
      ]
    },
    {
      "cell_type": "code",
      "execution_count": null,
      "metadata": {
        "id": "BiGfleUK7yjQ"
      },
      "outputs": [],
      "source": [
        "import time\n",
        "from pathlib import Path\n",
        "\n",
        "import cv2\n",
        "import matplotlib.pyplot as plt\n",
        "import numpy as np\n",
        "import tensorflow as tf\n",
        "from openvino.runtime import Core, serialize\n",
        "from openvino.tools import mo"
      ]
    },
    {
      "cell_type": "code",
      "source": [
        "# The paths of the source and converted models.\n",
        "model_dir = Path(\"model\")\n",
        "model_dir.mkdir(exist_ok=True)\n",
        "\n",
        "model_path = Path(\"model/efficientnet_b2\")\n",
        "\n",
        "ir_path = Path(\"model/efficientnet_b2.xml\")"
      ],
      "metadata": {
        "id": "xAlT3AQJ7_Ob"
      },
      "execution_count": null,
      "outputs": []
    },
    {
      "cell_type": "code",
      "source": [
        "import tensorflow as tf\n",
        "from tensorflow.keras.applications import EfficientNetB2\n",
        "import json\n",
        "import numpy as np\n",
        "model_path = Path(\"model/efficientnet_b2\")\n",
        "\n",
        "model = EfficientNetB2()\n",
        "model.save_weights(f\"{model_path}/efficientnet_b2_weights.h5\")\n",
        "\n",
        "class CustomJSONEncoder(json.JSONEncoder):\n",
        "    def default(self, obj):\n",
        "        if isinstance(obj, tf.Tensor):\n",
        "            return obj.numpy().tolist()  # Convert to a regular Python list\n",
        "        return super().default(obj)\n",
        "model_config_json = json.dumps(model.get_config(), cls=CustomJSONEncoder, indent=4)\n",
        "\n",
        "\n",
        "with open(f\"{model_path}/efficientnet_b2_architecture.json\", \"w\") as json_file:\n",
        "    json_file.write(model_config_json)"
      ],
      "metadata": {
        "id": "J7vtqt_g8BF8"
      },
      "execution_count": null,
      "outputs": []
    },
    {
      "cell_type": "code",
      "source": [
        "# Run model conversion API if the IR model file does not exist\n",
        "if not ir_path.exists():\n",
        "    print(\"Exporting TensorFlow model to IR... This may take a few minutes.\")\n",
        "    ov_model = mo.convert_model(saved_model_dir=model_path, input_shape=[[1, 224, 224, 3]], compress_to_fp16=True)\n",
        "    serialize(ov_model, ir_path)\n",
        "else:\n",
        "    print(f\"IR model {ir_path} already exists.\")"
      ],
      "metadata": {
        "id": "vVyb0yxz8Dop"
      },
      "execution_count": null,
      "outputs": []
    },
    {
      "cell_type": "code",
      "source": [
        "core = Core()\n",
        "model = core.read_model(ir_path)"
      ],
      "metadata": {
        "id": "AIR_1Jn28GQK"
      },
      "execution_count": null,
      "outputs": []
    },
    {
      "cell_type": "code",
      "source": [
        "import ipywidgets as widgets\n",
        "\n",
        "device = widgets.Dropdown(\n",
        "    options=core.available_devices + [\"AUTO\"],\n",
        "    value='AUTO',\n",
        "    description='Device:',\n",
        "    disabled=False,\n",
        ")\n",
        "\n",
        "device"
      ],
      "metadata": {
        "id": "ENhvJvEa8IGC"
      },
      "execution_count": null,
      "outputs": []
    },
    {
      "cell_type": "code",
      "source": [
        "compiled_model = core.compile_model(model=model, device_name=device.value)"
      ],
      "metadata": {
        "id": "kTEs8IU-8Lsl"
      },
      "execution_count": null,
      "outputs": []
    },
    {
      "cell_type": "code",
      "source": [
        "input_key = compiled_model.input(0)\n",
        "output_key = compiled_model.output(0)\n",
        "network_input_shape = input_key.shape"
      ],
      "metadata": {
        "id": "EYLfmngM8NIh"
      },
      "execution_count": null,
      "outputs": []
    },
    {
      "cell_type": "code",
      "source": [
        "import cv2\n",
        "import numpy as np\n",
        "import matplotlib.pyplot as plt\n",
        "from tensorflow.keras.applications.efficientnet import preprocess_input\n",
        "\n",
        "# Load and preprocess the image\n",
        "image = cv2.imread(filename=\"./aeroplane.jpg\")\n",
        "image_rgb = cv2.cvtColor(image, cv2.COLOR_BGR2RGB)\n",
        "resized_image = cv2.resize(image_rgb, (224, 224))\n",
        "input_image = preprocess_input(resized_image)  # Preprocess for EfficientNetB2\n",
        "\n",
        "# Display the original image\n",
        "plt.imshow(image_rgb)\n",
        "plt.show()\n"
      ],
      "metadata": {
        "id": "L9R_iWr78P7V"
      },
      "execution_count": null,
      "outputs": []
    },
    {
      "cell_type": "code",
      "source": [
        "result = compiled_model(input_image)[output_key]\n",
        "\n",
        "result_index = np.argmax(result)"
      ],
      "metadata": {
        "id": "ASSiR7gF8TNg"
      },
      "execution_count": null,
      "outputs": []
    },
    {
      "cell_type": "code",
      "source": [
        "# Convert the inference result to a class name.\n",
        "imagenet_classes = open(\"./imagenet_2012.txt\").read().splitlines()\n",
        "\n",
        "imagenet_classes[result_index]"
      ],
      "metadata": {
        "id": "YEJGEJTv8Uq_"
      },
      "execution_count": null,
      "outputs": []
    },
    {
      "cell_type": "code",
      "source": [
        "num_images = 1000\n",
        "\n",
        "start = time.perf_counter()\n",
        "\n",
        "for _ in range(num_images):\n",
        "    compiled_model([input_image])\n",
        "\n",
        "end = time.perf_counter()\n",
        "time_ir = end - start\n",
        "\n",
        "print(\n",
        "    f\"IR model in OpenVINO Runtime/CPU: {time_ir/num_images:.4f} \"\n",
        "    f\"seconds per image, FPS: {num_images/time_ir:.2f}\"\n",
        ")"
      ],
      "metadata": {
        "id": "xDHZJ2vi8Vqu"
      },
      "execution_count": null,
      "outputs": []
    }
  ]
}